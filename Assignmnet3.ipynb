{
 "cells": [
  {
   "cell_type": "markdown",
   "id": "4f3ae06b-0645-44e7-b867-39eb015a98b3",
   "metadata": {},
   "source": [
    "#Explain the significance of Python keywords and provide examples of five keywords"
   ]
  },
  {
   "cell_type": "markdown",
   "id": "95b71d9e-ecc8-4a06-8608-c0baa4f7f9c9",
   "metadata": {},
   "source": [
    "Python keywords are reserved words that have special meanings & purposes within the Python programming language.\n",
    "Here is the example of five keywords:\n",
    "1. If ( which provide condition in code ) \n",
    "for example "
   ]
  },
  {
   "cell_type": "code",
   "execution_count": 3,
   "id": "4d4547c7-054e-46df-85c6-61f31ee319dd",
   "metadata": {},
   "outputs": [
    {
     "name": "stdout",
     "output_type": "stream",
     "text": [
      "B is big\n"
     ]
    }
   ],
   "source": [
    "a = 5 \n",
    "b = 6\n",
    "if a > b: \n",
    "    print (\"A is big than b\")\n",
    "else :\n",
    "    print (\"B is big\")"
   ]
  },
  {
   "cell_type": "markdown",
   "id": "e6df1e06-9794-45a9-a568-d47f3acf735f",
   "metadata": {},
   "source": [
    "2 ) while -- Its a part of loop that executes a block of code as long as a specified condition is true. Fir example :"
   ]
  },
  {
   "cell_type": "code",
   "execution_count": 18,
   "id": "b664675a-0232-46af-ac92-f3f6eec46d47",
   "metadata": {},
   "outputs": [
    {
     "name": "stdout",
     "output_type": "stream",
     "text": [
      "1\n",
      "2\n",
      "3\n",
      "4\n",
      "5\n"
     ]
    }
   ],
   "source": [
    "z = 1\n",
    "while z <= 5:\n",
    "    print(z)\n",
    "    z += 1"
   ]
  },
  {
   "cell_type": "markdown",
   "id": "3796fa2c-8098-4549-8b0b-fb69c94c8031",
   "metadata": {},
   "source": [
    "3) def -- Used to define a function in Python"
   ]
  },
  {
   "cell_type": "code",
   "execution_count": 21,
   "id": "362e7105-d6de-4161-9c51-33a824d08dbf",
   "metadata": {},
   "outputs": [
    {
     "name": "stdout",
     "output_type": "stream",
     "text": [
      "hello\n"
     ]
    }
   ],
   "source": [
    "def xyz():\n",
    "    return \"hello\"\n",
    "print (xyz())"
   ]
  },
  {
   "cell_type": "markdown",
   "id": "f051ccc9-fe5b-4887-8e7a-c3923c24c8eb",
   "metadata": {},
   "source": [
    "4) or -- It give True if at least one of the conditions is True"
   ]
  },
  {
   "cell_type": "code",
   "execution_count": 22,
   "id": "f37f50a7-c03d-4ee6-a4f6-55ea979bad28",
   "metadata": {},
   "outputs": [
    {
     "name": "stdout",
     "output_type": "stream",
     "text": [
      "Its true\n"
     ]
    }
   ],
   "source": [
    "a = 15\n",
    "if a < 0 or a > 10:\n",
    "    print(\"Its true\")\n"
   ]
  },
  {
   "cell_type": "markdown",
   "id": "b3d6c9e3-c3fc-4b94-9d1a-7c25fe985929",
   "metadata": {},
   "source": [
    "5) It is used to exit a function and return a value ."
   ]
  },
  {
   "cell_type": "code",
   "execution_count": 23,
   "id": "39c7699d-1f5b-4ee9-89bd-945d0bea7c42",
   "metadata": {},
   "outputs": [
    {
     "name": "stdout",
     "output_type": "stream",
     "text": [
      "hello\n"
     ]
    }
   ],
   "source": [
    "def xyz():\n",
    "    return \"hello\"\n",
    "print (xyz())"
   ]
  },
  {
   "cell_type": "markdown",
   "id": "05754283-182f-406a-a911-e8cadd04004e",
   "metadata": {},
   "source": [
    "#2 Descri0e the rules for defining identifiers in Python and provide an example"
   ]
  },
  {
   "cell_type": "markdown",
   "id": "35ee4d27-fec6-4028-8568-556a6c296900",
   "metadata": {},
   "source": [
    "1. We canot start identifiers with name \n",
    "2. Its case sensitive \n",
    "3.Cannot use reserved keywords as identifiers\n",
    "4. Hyphens are not allowed in identifiers etc\n",
    "Here is the example one by one :\n",
    "    # Correct identifiers\n",
    "    a = \"DS\"\n",
    "    xyz = 1123\n",
    "    Work_schedule = (\"ok\")\n",
    "    # ivalid identifiers\n",
    "    1as = 123\n",
    "    work schedule = \"at work\"\n",
    "    if = 765\n",
    "    "
   ]
  },
  {
   "cell_type": "code",
   "execution_count": null,
   "id": "da0027e7-9d0c-4e1b-b33c-6afb2e518cbd",
   "metadata": {},
   "outputs": [],
   "source": []
  },
  {
   "cell_type": "markdown",
   "id": "55f20e95-a7bb-4d33-8777-f154c79bc402",
   "metadata": {},
   "source": [
    "#3 What are comments in Python, and why are they useful6 Provide an example"
   ]
  },
  {
   "cell_type": "markdown",
   "id": "9e6efae8-ecb1-4666-8315-77163e3b0066",
   "metadata": {},
   "source": [
    "# Comment are useful to give hint about the code and make it more clear and organise code \n",
    "For using comment we need to add # in starting so python will not excedute anything which writen on the line .\n",
    "Also if we define any fuction we can provide each and every details about that  function by sing triple quatation such \"\"\" xyz\"\"\" ( its a multiple\n",
    "line code ) for example :\n",
    "a = 10  # Assigning the value 10 to a\n",
    "OR \n",
    "def xyz():\n",
    "\"\"\"\n",
    "this function proided all info \n",
    "x\n",
    "x\n",
    "x \"\"\""
   ]
  },
  {
   "cell_type": "code",
   "execution_count": null,
   "id": "d7b86c6a-a92a-4bd7-bbe6-85be4902ae33",
   "metadata": {},
   "outputs": [],
   "source": []
  },
  {
   "cell_type": "markdown",
   "id": "c9b5c1e3-e048-4411-bc94-75dbab9fd5b2",
   "metadata": {},
   "source": [
    "#Why is proper indentation important in Python"
   ]
  },
  {
   "cell_type": "markdown",
   "id": "a5582d2c-d14c-49cd-88a1-f1dbfa3221ac",
   "metadata": {},
   "source": [
    "Its is very important bracuse it make code more clear as well as if its not be there in proper way it will direclty impact on \n",
    "code , Wrong or incorret indentation can lead to a error , Good /proper identaation can help us for Readability , debugging , reuse (depend on code) and many more ."
   ]
  },
  {
   "cell_type": "code",
   "execution_count": null,
   "id": "415dce9d-2fd3-4da5-ba21-2e87bf365e60",
   "metadata": {},
   "outputs": [],
   "source": []
  },
  {
   "cell_type": "markdown",
   "id": "dc401ad4-1bb9-488a-8e60-87186d38f7ee",
   "metadata": {},
   "source": [
    "#5 k What happens if indentation is incorrect in Python"
   ]
  },
  {
   "cell_type": "markdown",
   "id": "fe86c520-6e68-4f5c-a758-784d2a6b72c3",
   "metadata": {},
   "source": [
    "Its the opposite of above statement , Wrong/incorrect identation can lead the program in error and make difficuliees to read \n",
    "and very hard to debugging the code too . With wrong /incorrrect identation its nest to impossible to excedecite the correect result ."
   ]
  },
  {
   "cell_type": "markdown",
   "id": "bd715caf-36af-409f-95a6-c384052dde9c",
   "metadata": {},
   "source": [
    "#6 Differentiate 0etween expression and statement in Python with examples"
   ]
  },
  {
   "cell_type": "markdown",
   "id": "b6b92637-bf21-4294-b8bc-e782f247ad77",
   "metadata": {},
   "source": [
    "expressions produce values while statements perform actions like a single constant or variable, or complex, involving multiple operators and function calls. \n",
    "Statements are the building blocks of a Python program and can include assignments, function calls, loops, conditionals, and more.\n",
    "Understanding the distinction between expressions and statements is crucial for writing clear, concise, and effective Python code.\n",
    "For example ( Expression ) \n",
    "a+b\n",
    "len(a) and so on \n",
    "\n",
    "Statement example are :\n",
    "x = 5 (Assignment statement:)"
   ]
  }
 ],
 "metadata": {
  "kernelspec": {
   "display_name": "Python 3 (ipykernel)",
   "language": "python",
   "name": "python3"
  },
  "language_info": {
   "codemirror_mode": {
    "name": "ipython",
    "version": 3
   },
   "file_extension": ".py",
   "mimetype": "text/x-python",
   "name": "python",
   "nbconvert_exporter": "python",
   "pygments_lexer": "ipython3",
   "version": "3.10.8"
  }
 },
 "nbformat": 4,
 "nbformat_minor": 5
}
